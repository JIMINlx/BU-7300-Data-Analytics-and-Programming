{
  "cells": [
    {
      "cell_type": "markdown",
      "metadata": {
        "id": "view-in-github",
        "colab_type": "text"
      },
      "source": [
        "<a href=\"https://colab.research.google.com/github/JIMINlx/BU-7300-Data-Analytics-and-Programming/blob/main/7300_numpy_tutorial.ipynb\" target=\"_parent\"><img src=\"https://colab.research.google.com/assets/colab-badge.svg\" alt=\"Open In Colab\"/></a>"
      ]
    },
    {
      "cell_type": "markdown",
      "metadata": {
        "id": "FjsUFBpY1g4f"
      },
      "source": [
        "#### Creating Arrays:\n",
        "attributes like shape, size, ndim, dtype, and itemsize."
      ]
    },
    {
      "cell_type": "code",
      "execution_count": 2,
      "metadata": {
        "colab": {
          "base_uri": "https://localhost:8080/"
        },
        "id": "xRMHO8U81g4j",
        "outputId": "91364cb9-1e19-4ac7-e70a-ccdaa390503a"
      },
      "outputs": [
        {
          "output_type": "stream",
          "name": "stdout",
          "text": [
            "[1 2 3 4 5]\n",
            "(5,)\n",
            "---------------------------------\n",
            "1\n",
            "---------------------------------\n",
            "5\n",
            "---------------------------------\n",
            "int64\n",
            "---------------------------------\n",
            "8\n",
            "\n",
            "\n",
            "3\n",
            "---------------------------------\n",
            "[[1 2 3]\n",
            " [4 5 6]]\n",
            "---------------------------------\n",
            "(2, 3)\n",
            "---------------------------------\n",
            "2\n",
            "---------------------------------\n",
            "b_size: 6\n",
            "\n",
            "\n",
            "float16\n",
            "2\n",
            "\n",
            "\n",
            "14.0\n",
            "[[[ 1.  2.  3.  4.]\n",
            "  [ 5.  6.  7.  8.]]\n",
            "\n",
            " [[ 9. 10. 11. 12.]\n",
            "  [13. 14. 15. 16.]]]\n",
            "7.0\n",
            "(2, 2, 4)\n",
            "3\n",
            "16\n",
            "float32\n",
            "4\n",
            "\n",
            "\n"
          ]
        }
      ],
      "source": [
        "import numpy as np\n",
        "\n",
        "a_list = [1,2,3,4,5]\n",
        "a = np.array(a_list)\n",
        "print(a)\n",
        "\n",
        "print(a.shape)             #尺寸数量，5->5列，因为是1维数组，所以是（5,）\n",
        "\n",
        "print('---------------------------------')\n",
        "\n",
        "# ndim is for number of dimensions\n",
        "print(a.ndim)              #返回数组的维度\n",
        "\n",
        "print('---------------------------------')\n",
        "\n",
        "# size is for number of elements\n",
        "print(a.size)\n",
        "\n",
        "print('---------------------------------')\n",
        "\n",
        "# dtype is for data type, int 2^5\n",
        "print(a.dtype)\n",
        "\n",
        "print('---------------------------------')\n",
        "\n",
        "# itemsize is for size of each element,数组中每个元素的大小，以字节为单位。float64 占用 64 个 bits，每个字节长度为 8，所以 64/8，占用 8 个字节\n",
        "print(a.itemsize)\n",
        "print('\\n')\n",
        "\n",
        "b_list = [[1,2,3],[4,5,6]]\n",
        "print(b_list[0][2])                #矩阵,第一行第3个数\n",
        "\n",
        "print('---------------------------------')\n",
        "\n",
        "b = np.array(b_list)\n",
        "print(b)\n",
        "print('---------------------------------')\n",
        "\n",
        "print(b.shape)                   #2行3列\n",
        "print('---------------------------------')\n",
        "\n",
        "print(b.ndim)                   #2维数组\n",
        "print('---------------------------------')\n",
        "\n",
        "print('b_size:',b.size)              #6个元素\n",
        "print('\\n')\n",
        "\n",
        "# astype is not in-place operation\n",
        "b = b.astype(np.float16)\n",
        "print(b.dtype)\n",
        "print(b.itemsize)\n",
        "print('\\n')\n",
        "\n",
        "[1,2,3,4],[5,6,7,8]#\n",
        "c = np.array([[[1,2,3,4],[5,6,7,8]],[[9,10,11,12],[13,14,15,16]]])#Tensor张量\n",
        "c = c.astype(np.float32)\n",
        "print(c[1][1][1])#print out '14'\n",
        "print(c)\n",
        "print(c[0][1][2])#print out '7'\n",
        "print(c.shape)#查看矩阵或数组的维数\n",
        "print(c.ndim)\n",
        "print(c.size)\n",
        "print(c.dtype)\n",
        "print(c.itemsize)\n",
        "print('\\n')\n",
        "\n"
      ]
    },
    {
      "cell_type": "markdown",
      "source": [],
      "metadata": {
        "id": "sBj8JfAI15gX"
      }
    },
    {
      "cell_type": "markdown",
      "metadata": {
        "id": "_WH6irka1g4m"
      },
      "source": [
        "#### numpy array initialization\n",
        "np.zeros(), np.ones(), np.arange(), np.linspace()"
      ]
    },
    {
      "cell_type": "code",
      "execution_count": null,
      "metadata": {
        "colab": {
          "base_uri": "https://localhost:8080/"
        },
        "id": "GnJqRrJ01g4n",
        "outputId": "7e50e4ea-879d-4c2a-9f8c-c892edffccb1"
      },
      "outputs": [
        {
          "output_type": "stream",
          "name": "stdout",
          "text": [
            "[[0. 0. 0.]\n",
            " [0. 0. 0.]]\n",
            "[[1. 1. 1.]\n",
            " [1. 1. 1.]]\n",
            "[0 2 4 6 8]\n",
            "[ 0.  2.  4.  6.  8. 10.]\n"
          ]
        }
      ],
      "source": [
        "a = np.zeros((2,3))\n",
        "print(a)\n",
        "\n",
        "a = np.ones((2,3))\n",
        "print(a)\n",
        "\n",
        "# the following will generate numbers between 0 and 10, which is two numbers apart\n",
        "a = np.arange(0,10,2)\n",
        "print(a)\n",
        "\n",
        "# the following will generate 6 numbers between 0 and 10, no matter what the step is\n",
        "a = np.linspace(0,10,6)#生成等差数列\n",
        "print(a)"
      ]
    },
    {
      "cell_type": "markdown",
      "metadata": {
        "id": "PSFYmYsp1g4o"
      },
      "source": [
        "### Basic Operations:\n",
        "Element-wise operations, broadcasting, and universal functions (ufuncs).\n",
        "\n",
        "Arithmetic Operations: Addition, subtraction, multiplication, division, and power.\n",
        "\n",
        "Statistical Operations: Mean, median, standard deviation, variance, min, max, sum, and product."
      ]
    },
    {
      "cell_type": "code",
      "execution_count": null,
      "metadata": {
        "id": "7eOy4Xf-1g4o"
      },
      "outputs": [],
      "source": [
        "a_array = np.array([1,2,3])\n",
        "b_array = np.array([4,5,6])\n",
        "a_list=[1,2,3]\n",
        "b_list=[4,5,6]\n",
        "print(a_list+b_list)#数组相加，print out‘[1,2,3][4,5,6]'\n",
        "\n",
        "print(a_array + b_array)#数组之间的数相加'[5,7,9]'\n",
        "print(a_array - b_array)\n",
        "print(a_array * b_array)\n",
        "print(a_array / b_array)\n",
        "\n",
        "#broadcasting\n",
        "a = np.array([[1,2,3],[4,5,6]])\n",
        "print(a)\n",
        "print(a + 100)\n",
        "print(a * 100)\n",
        "# power\n",
        "print(a ** 2)#square,pow(a,2)->a^2\n",
        "\n",
        "# statistical functions, they do not require axis\n",
        "print(a.mean())\n",
        "print(a.std())\n",
        "print(a.var())\n",
        "print(a.sum())\n",
        "print(a.max())\n",
        "print(a.min())\n",
        "print(a.argmax())\n",
        "print(a.argmin())#使目标函数f(x)取最小值时的索引\n",
        "\n",
        "# universal functions\n",
        "print(np.sqrt(a))\n",
        "print(np.exp(a))\n",
        "print(np.power(a,2))\n"
      ]
    },
    {
      "cell_type": "markdown",
      "metadata": {
        "id": "NjZMXHeO1g4p"
      },
      "source": [
        "### Indexing and Slicing\n",
        "\n",
        "Basic Indexing: Accessing array elements using indices.\n",
        "基本索引:使用索引访问数组元素。\n",
        "Slicing: Extracting subarrays using slice notation.\n",
        "切片:使用切片表示法提取子数组。"
      ]
    },
    {
      "cell_type": "code",
      "execution_count": null,
      "metadata": {
        "colab": {
          "base_uri": "https://localhost:8080/"
        },
        "id": "AEgutOk31g4p",
        "outputId": "f3de7731-d2bb-4ec3-eadc-15b9ad7ea388"
      },
      "outputs": [
        {
          "output_type": "stream",
          "name": "stdout",
          "text": [
            "[[ 1  2  3  4]\n",
            " [ 5  6  7  8]\n",
            " [ 9 10 11 12]]\n",
            "2\n",
            "5\n",
            "-----------------------------------------\n",
            "[1 2 3 4]\n",
            "[1 2 3 4]\n",
            "[1 5 9]\n",
            "[2 3]\n",
            "[2 3 4]\n",
            "a[0,:2] =  [1 2]\n",
            "[[2 3 4]\n",
            " [6 7 8]]\n",
            "[2 3 4]\n",
            "4\n",
            "9\n",
            "[ 9 10 11 12]\n",
            "9\n",
            "12\n",
            "[ 9 10 11]\n"
          ]
        }
      ],
      "source": [
        "a = np.array([[1,2,3,4],[5,6,7,8],[9,10,11,12]]) #n.array数组\n",
        "print(a)\n",
        "# first row, second column\n",
        "print(a[0,1])\n",
        "# second row, first column\n",
        "print(a[1,0])\n",
        "print('-----------------------------------------')\n",
        "\n",
        "# slicing, this will return the first row\n",
        "print(a[0])#print out the first row\n",
        "# this will return the first row as well\n",
        "print(a[0,:])\n",
        "# this will return the first column\n",
        "print(a[:,0])\n",
        "print(a[0,1:3])#只输出两个数\n",
        "print(a[0,1:])\n",
        "print('a[0,:2] = ',a[0,:2])\n",
        "# this will return the first two rows, and the last three columns\n",
        "print(a[:2,1:])\n",
        "print(a[0,1:])\n",
        "print(a[0,-1])\n",
        "print(a[-1,0])\n",
        "print(a[a.shape[0]-1])\n",
        "print(a[a.shape[0]-1,0])#a.shape[0]->第一行，a.shape[0]-1，指最后一行\n",
        "print(a[-1,-1])\n",
        "print(a[-1,:-1])"
      ]
    },
    {
      "cell_type": "markdown",
      "metadata": {
        "id": "2NCowsj21g4q"
      },
      "source": [
        "### Boolean Indexing\n",
        "\n",
        "Using boolean arrays to select elements."
      ]
    },
    {
      "cell_type": "code",
      "execution_count": null,
      "metadata": {
        "colab": {
          "base_uri": "https://localhost:8080/"
        },
        "id": "mpVu8l8E1g4r",
        "outputId": "65db8f07-83ff-4ad2-e4a2-ae42b002a06a"
      },
      "outputs": [
        {
          "output_type": "stream",
          "name": "stdout",
          "text": [
            "[[ 1  2  3  4]\n",
            " [ 5  6  7  8]\n",
            " [ 9 10 11 12]]\n",
            "[[False False False False]\n",
            " [False  True  True  True]\n",
            " [ True  True  True  True]]\n",
            "[ 6  7  8  9 10 11 12]\n",
            "[ 2  4  6  8 10 12]\n",
            "[ 3  4  5  6  7  8  9 10]\n",
            "[ 1  2  3  4  5 12]\n"
          ]
        }
      ],
      "source": [
        "\n",
        "a = np.array([[1,2,3,4 ],[5,6,7,8],[9,10,11,12]])\n",
        "print(a)\n",
        "#this is just a broadcast operation and results a new array of the same shape containing boolen\n",
        "print(a>5)#boolen\n",
        "print(a[a>5])#true-return,false不return\n",
        "print(a[a%2==0])\n",
        "# needto know that logic operators are different in numpy compare with normal python\n",
        "print(a[(a>2) & (a<11)])#注意用逻辑符号，list 用and，or……\n",
        "print(a[(a<6) | (a>11)])\n"
      ]
    },
    {
      "cell_type": "markdown",
      "metadata": {
        "id": "zxzgUpdP1g4s"
      },
      "source": [
        "### numpy array manipulation\n",
        "repeat an array of (with axis) for: Mean, median, standard deviation, variance, min, max, sum"
      ]
    },
    {
      "cell_type": "code",
      "execution_count": null,
      "metadata": {
        "colab": {
          "base_uri": "https://localhost:8080/"
        },
        "id": "K7u6CWBe1g4t",
        "outputId": "b0df43e5-2768-4358-c321-66853f07ac8e"
      },
      "outputs": [
        {
          "output_type": "stream",
          "name": "stdout",
          "text": [
            "[[1 2 3]\n",
            " [4 5 6]]\n",
            "[2.5 3.5 4.5]\n",
            "[2. 5.]\n",
            "[1.5 1.5 1.5]\n",
            "[0.81649658 0.81649658]\n",
            "[2.25 2.25 2.25]\n",
            "[0.66666667 0.66666667]\n",
            "[5 7 9]\n",
            "[ 6 15]\n",
            "[4 5 6]\n",
            "[3 6]\n",
            "[1 2 3]\n",
            "[1 4]\n",
            "[1 1 1]\n",
            "[2 2]\n",
            "[0 0 0]\n",
            "[0 0]\n"
          ]
        }
      ],
      "source": [
        "a = np.array([[1,2,3],[4,5,6]])\n",
        "\n",
        "\n",
        "print(a)\n",
        "print(a.mean(axis=0))#数组中第一列的平均数\n",
        "print(a.mean(axis=1))\n",
        "print(a.std(axis=0))\n",
        "print(a.std(axis=1))\n",
        "print(a.var(axis=0))\n",
        "print(a.var(axis=1))\n",
        "print(a.sum(axis=0))\n",
        "print(a.sum(axis=1))\n",
        "print(a.max(axis=0))\n",
        "print(a.max(axis=1))\n",
        "print(a.min(axis=0))\n",
        "print(a.min(axis=1))\n",
        "print(a.argmax(axis=0))\n",
        "print(a.argmax(axis=1))\n",
        "print(a.argmin(axis=0))\n",
        "print(a.argmin(axis=1))"
      ]
    },
    {
      "cell_type": "markdown",
      "metadata": {
        "id": "_YuKSLUS1g4u"
      },
      "source": [
        "### Array Manipulation\n",
        "Reshaping Arrays: Using `reshape()`, `ravel()`, and `flatten()`."
      ]
    },
    {
      "cell_type": "code",
      "execution_count": null,
      "metadata": {
        "colab": {
          "base_uri": "https://localhost:8080/"
        },
        "id": "cHFMKo1q1g4u",
        "outputId": "493ad809-9cb9-42d9-b1cd-c76c7167c816"
      },
      "outputs": [
        {
          "output_type": "stream",
          "name": "stdout",
          "text": [
            "[[1 2]\n",
            " [3 4]\n",
            " [5 6]]\n",
            "---------------\n",
            "[1 2 3 4 5 6]\n",
            "[1 2 3 4 5 6]\n",
            "[[1 2]\n",
            " [3 4]\n",
            " [5 6]]\n",
            "[[100   2]\n",
            " [  3   4]\n",
            " [  5   6]]\n",
            "[1 2 3 4 5 6]\n",
            "[[1 2 3]\n",
            " [4 5 6]]\n"
          ]
        }
      ],
      "source": [
        "a = np.array([[1,2,3],[4,5,6]])\n",
        "a = a.reshape(3,2)#将2*3矩阵变为3*2矩阵\n",
        "print(a)\n",
        "print('---------------')\n",
        "#reship to 1D using -1,-1 will be calculated automatically\n",
        "print(a.reshape(-1))#重塑，拉平数据\n",
        "# ravel will flatten the array to 1D, but it will return a \"view\" of the array\n",
        "b = a.ravel()#a是基于b的，所以b变化时a也会变化，拉平数据，2D变1D\n",
        "print(b)\n",
        "print(a)\n",
        "b[0] = 100\n",
        "print(a)\n",
        "\n",
        "# flatten will flatten the array to 1D, but it will return a \"copy\" of the array\n",
        "a = np.array([[1,2,3],[4,5,6]])\n",
        "b = a.flatten()\n",
        "print(b)\n",
        "b[0] = 100\n",
        "print(a)"
      ]
    },
    {
      "cell_type": "markdown",
      "metadata": {
        "id": "1d9hQdtQ1g4v"
      },
      "source": [
        "### Joining Arrays:\n",
        "Concatenation using `np.concatenate()`, `np.vstack()`, and `np.hstack()`."
      ]
    },
    {
      "cell_type": "code",
      "execution_count": null,
      "metadata": {
        "colab": {
          "base_uri": "https://localhost:8080/"
        },
        "id": "43EkrTZW1g4v",
        "outputId": "fd4f633a-2cd3-498b-9193-18dbf328f80f"
      },
      "outputs": [
        {
          "output_type": "stream",
          "name": "stdout",
          "text": [
            "[[ 1  2  3]\n",
            " [ 4  5  6]\n",
            " [ 7  8  9]\n",
            " [10 11 12]]\n",
            "[[ 1  2  3  7  8  9]\n",
            " [ 4  5  6 10 11 12]]\n",
            "\n",
            "\n",
            "[[ 1  2  3]\n",
            " [ 4  5  6]\n",
            " [ 7  8  9]\n",
            " [10 11 12]]\n",
            "[[ 1  2  3  7  8  9]\n",
            " [ 4  5  6 10 11 12]]\n"
          ]
        }
      ],
      "source": [
        "a = np.array([[1,2,3],[4,5,6]])\n",
        "b = np.array([[7,8,9],[10,11,12]])\n",
        "print(np.concatenate((a,b),axis=0))#数组拼接，axis=0->对0轴进行纵向拼接横\n",
        "print(np.concatenate((a,b),axis=1))\n",
        "print('\\n')\n",
        "# vstack and hstack are the same as concatenate\n",
        "print(np.vstack((a,b)))\n",
        "print(np.hstack((a,b)))\n"
      ]
    },
    {
      "cell_type": "markdown",
      "metadata": {
        "id": "wOrL5q811g4v"
      },
      "source": [
        "### Splitting Arrays:\n",
        "Using `np.split()`, `np.hsplit()`, and `np.vsplit()`"
      ]
    },
    {
      "cell_type": "code",
      "execution_count": null,
      "metadata": {
        "colab": {
          "base_uri": "https://localhost:8080/"
        },
        "id": "BGMW9f8k1g4w",
        "outputId": "5f0db8dc-728e-42be-9741-70afc69f653f"
      },
      "outputs": [
        {
          "output_type": "stream",
          "name": "stdout",
          "text": [
            "[[1 2 3 4]\n",
            " [4 5 6 8]]\n",
            "[array([[1, 2, 3, 4]]), array([[4, 5, 6, 8]])]\n",
            "[array([[1, 2, 3, 4]]), array([[4, 5, 6, 8]])]\n",
            "[array([[1, 2, 3, 4]]), array([[4, 5, 6, 8]])]\n",
            "\n",
            "\n",
            "[array([[1],\n",
            "       [4]]), array([[2],\n",
            "       [5]]), array([[3],\n",
            "       [6]]), array([[4],\n",
            "       [8]])]\n",
            "[array([[1, 2],\n",
            "       [4, 5]]), array([[3, 4],\n",
            "       [6, 8]])]\n",
            "<class 'list'>\n"
          ]
        }
      ],
      "source": [
        "a = np.array([[1,2,3,4],[4,5,6,8]])\n",
        "print(a)\n",
        "\n",
        "# split will return a list of numpy arrays\n",
        "print(np.split(a,2))#将数组均分，一个6*4数组均分成两个3*4数组\n",
        "# the following are the same as the above\n",
        "print(np.split(a,2,axis = 0))\n",
        "# vertical split, which is spliting into list of rows\n",
        "print(np.vsplit(a,2))\n",
        "\n",
        "print('\\n')\n",
        "print(np.split(a,4,axis=1))\n",
        "# horizontal split, which is spliting into list of columns\n",
        "print(np.hsplit(a,2))\n",
        "print(type(np.split(a,2)))\n",
        "\n",
        "# you won't be able to split the array into uneven parts\n",
        "# print(np.split(a,3))\n"
      ]
    },
    {
      "cell_type": "markdown",
      "metadata": {
        "id": "qLkwWW0M1g4w"
      },
      "source": [
        "### Linear Algebra\n",
        "\n",
        "Matrix Operations: Matrix multiplication, dot product, and inner product\n",
        "\n"
      ]
    },
    {
      "cell_type": "code",
      "execution_count": 3,
      "metadata": {
        "id": "WC7Jpy2E1g4x",
        "colab": {
          "base_uri": "https://localhost:8080/"
        },
        "outputId": "7260baf5-a172-4011-dd81-a2bcdf9e5405"
      },
      "outputs": [
        {
          "output_type": "stream",
          "name": "stdout",
          "text": [
            "[[1 2]\n",
            " [3 4]]\n",
            "[[5 6]\n",
            " [7 8]]\n",
            "[[ 5 12]\n",
            " [21 32]]\n",
            "\n",
            "\n",
            "[[19 22]\n",
            " [43 50]]\n",
            "[[19 22]\n",
            " [43 50]]\n",
            "[[19 22]\n",
            " [43 50]]\n",
            "[[[ 1  2  3]\n",
            "  [ 4  5  6]]\n",
            "\n",
            " [[ 7  8  9]\n",
            "  [10 11 12]]]\n",
            "\n",
            "\n",
            "[[[ 1  2]\n",
            "  [ 3  4]\n",
            "  [ 5  6]]\n",
            "\n",
            " [[ 7  8]\n",
            "  [ 9 10]\n",
            "  [11 12]]]\n",
            "a@b:\n",
            " [[[ 22  28]\n",
            "  [ 49  64]]\n",
            "\n",
            " [[220 244]\n",
            "  [301 334]]]\n",
            "\n",
            "\n",
            "[[22 28]\n",
            " [49 64]]\n",
            "[[220 244]\n",
            " [301 334]]\n"
          ]
        }
      ],
      "source": [
        "#matrix operations\n",
        "\n",
        "a = np.array([[1,2],[3,4]])\n",
        "b = np.array([[5,6],[7,8]])\n",
        "print(a)\n",
        "print(b)\n",
        "# element-wise multiplication\n",
        "print(a*b)\n",
        "print('\\n')\n",
        "\n",
        "# the following code does the same thing\n",
        "# matrix multiplication\n",
        "print(a.dot(b))\n",
        "# I prefer the following way\n",
        "print(a@b)\n",
        "print(a.__matmul__(b))\n",
        "\n",
        "# the difference is when we apply broadcasting to 3D array\n",
        "a = np.array([[[1,2,3],[4,5,6]],[[7,8,9],[10,11,12]]])\n",
        "b = np.array([[[1,2],[3,4],[5,6]],[[7,8],[9,10],[11,12]]])\n",
        "\n",
        "print(a)\n",
        "print('\\n')\n",
        "print(b)\n",
        "\n",
        "\n",
        "# this is to broadcast multiplication of 3D array as set of mulitplication of 2D array\n",
        "print('a@b:\\n',a@b)\n",
        "print('\\n')\n",
        "# this is identical to the above\n",
        "for i in range(a.shape[0]):\n",
        "    print(a[i]@b[i])"
      ]
    },
    {
      "cell_type": "markdown",
      "metadata": {
        "id": "sCG2s9VM1g4x"
      },
      "source": [
        "### Random Number Generation\n"
      ]
    },
    {
      "cell_type": "code",
      "execution_count": null,
      "metadata": {
        "id": "psr2_WQq1g4y"
      },
      "outputs": [],
      "source": [
        "# uniform distribution\n",
        "a = np.random.random((2,3))\n",
        "print(a)\n",
        "\n",
        "# normal distribution\n",
        "a = np.random.randn(2,3)\n",
        "print(a)\n",
        "\n",
        "a = np.random.randint(0,10,(2,3))\n",
        "print(a)\n",
        "\n",
        "a = np.random.normal(0,1,(2,3))\n",
        "print(a)\n",
        "\n",
        "a = np.random.rand(2,3,4)\n",
        "print(a)"
      ]
    },
    {
      "cell_type": "markdown",
      "metadata": {
        "id": "U5jMsl4y1g4y"
      },
      "source": [
        "### Decompositions\n",
        "\n",
        "Eigenvalues, eigenvectors, and singular value decomposition (SVD).\n",
        "\n",
        "Solving Linear Systems: Using `np.linalg.solve()` and `np.linalg.inv()`."
      ]
    },
    {
      "cell_type": "code",
      "execution_count": null,
      "metadata": {
        "id": "Z5Fa2H041g4z"
      },
      "outputs": [],
      "source": [
        "a = np.random.randn(3,4)\n",
        "print(a)\n",
        "\n",
        "eigVal, eigvect = np.linalg.eig(a @ a.T)\n",
        "print(eigVal)\n",
        "print(eigvect)\n",
        "\n",
        "A = np.random.randn(3,3)\n",
        "b = np.random.randn(3,1)\n",
        "x = np.linalg.solve(A,b)\n",
        "\n",
        "print(A)\n",
        "print(b)\n",
        "print(x)\n",
        "\n",
        "print(A@x)"
      ]
    }
  ],
  "metadata": {
    "kernelspec": {
      "display_name": "base",
      "language": "python",
      "name": "python3"
    },
    "language_info": {
      "codemirror_mode": {
        "name": "ipython",
        "version": 3
      },
      "file_extension": ".py",
      "mimetype": "text/x-python",
      "name": "python",
      "nbconvert_exporter": "python",
      "pygments_lexer": "ipython3",
      "version": "3.11.4"
    },
    "colab": {
      "provenance": [],
      "include_colab_link": true
    }
  },
  "nbformat": 4,
  "nbformat_minor": 0
}