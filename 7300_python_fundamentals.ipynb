{
  "cells": [
    {
      "cell_type": "markdown",
      "metadata": {
        "id": "view-in-github",
        "colab_type": "text"
      },
      "source": [
        "<a href=\"https://colab.research.google.com/github/JIMINlx/BU-7300-Data-Analytics-and-Programming/blob/main/7300_python_fundamentals.ipynb\" target=\"_parent\"><img src=\"https://colab.research.google.com/assets/colab-badge.svg\" alt=\"Open In Colab\"/></a>"
      ]
    },
    {
      "cell_type": "markdown",
      "metadata": {
        "id": "UHgI-8ZLr4nH"
      },
      "source": [
        "## Python fundamentals\n",
        "##*python中，元素从0开始*\n",
        "\n",
        "1.   parentheses 小括号\n",
        "2.   brackets   中括号\n",
        "3.   curly brackets 大括号\n",
        "\n",
        "\n",
        "\n",
        "\n",
        "\n",
        "\n",
        "\n"
      ]
    },
    {
      "cell_type": "markdown",
      "metadata": {
        "id": "PjMLdQHHr4nR"
      },
      "source": [
        "**list**"
      ]
    },
    {
      "cell_type": "code",
      "execution_count": null,
      "metadata": {
        "colab": {
          "base_uri": "https://localhost:8080/"
        },
        "id": "gtjRkmp0r4nS",
        "outputId": "c21009d8-451d-4819-db80-9b32965ebf2d"
      },
      "outputs": [
        {
          "output_type": "stream",
          "name": "stdout",
          "text": [
            "e.g1: 5\n",
            "e.g2: 5\n",
            "<class 'list'>\n",
            "----------------------------------------------------\n",
            "[1, 2, 3, 4, 5, [7, 8, 9]]\n",
            "----------------------------------------------------\n",
            "[1, 2, 3, 4, 5, 7, 8, 9]\n",
            "----------------------------------------------------\n",
            "\n",
            "\n",
            "e.g1: [2, 3]\n",
            "e.g2: [2, 3, 4]\n",
            "e.g3: [2, 3, 4, 5]\n",
            "e.g4: [1, 2, 3]\n",
            "e.g5: [1, 2, 3, 4, 5]\n",
            "\n",
            "\n",
            "python\n",
            "2\n",
            "\n",
            "\n"
          ]
        }
      ],
      "source": [
        "a_list = [1, 2, 3, 4, 5]\n",
        "print('e.g1:',a_list[4])         #python从0开始\n",
        "print('e.g2:',a_list[-1])         #-1 -> 最后一个数字\n",
        "print(type(a_list))            #type()函数的类型\n",
        "\n",
        "print('----------------------------------------------------')\n",
        "\n",
        "# append appends the list as a single element\n",
        "a_list.append([7,8,9])          #将[7,8,9]当做一个元素\n",
        "print(a_list)\n",
        "\n",
        "print('----------------------------------------------------')\n",
        "\n",
        "# extend appends the elements of the list\n",
        "a_list = [1, 2, 3, 4, 5]\n",
        "a_list.extend([7, 8, 9])        #将[7,8,9]扩充至a_list中\n",
        "print(a_list)\n",
        "\n",
        "print('----------------------------------------------------')\n",
        "\n",
        "print('\\n')\n",
        "\n",
        "# slicing切断\n",
        "a_list = [1, 2, 3, 4, 5]\n",
        "print('e.g1:',a_list[1:3])            #输出位置1~3之间的元素，不包含最右端即位置3的元素\n",
        "print('e.g2:',a_list[1:-1])           #输出位置1~最后一个之间的元素，不包含最右端即最后一个位置的元素\n",
        "print('e.g3:',a_list[1:])            #输出位置1之后的元素，包括位置1\n",
        "print('e.g4:',a_list[:3])            #输出位置3之前的元素，不包括位置3\n",
        "print('e.g5:',a_list[:])            #输出所有位置的元素\n",
        "\n",
        "print('----------------------------------------------------')\n",
        "print('\\n')\n",
        "b_list = ['a',1, 'python', (1,2), '3']\n",
        "print(b_list[2])\n",
        "print(b_list[3][1])                #输出位置3的元素中的位置1的元素\n",
        "\n",
        "print('\\n')"
      ]
    },
    {
      "cell_type": "code",
      "execution_count": null,
      "metadata": {
        "colab": {
          "base_uri": "https://localhost:8080/"
        },
        "id": "NOx2f_0Jr4nT",
        "outputId": "1d67312f-202d-458d-f6b5-64a7f5227ffe"
      },
      "outputs": [
        {
          "output_type": "stream",
          "name": "stdout",
          "text": [
            "a+b= [1, 2, 3, 4, 5, 6, 7, 8, 9, 10]\n",
            "\n",
            "\n",
            "a*3= [1, 2, 3, 4, 5, 1, 2, 3, 4, 5, 1, 2, 3, 4, 5]\n",
            "----------------------------------------------------\n",
            "the result of running a_list.index(3) is:  2\n",
            "----------------------------------------------------\n",
            "[1, 2, 3, 4, 5, 1, 2, 3, 4, 5, 'a', 1, 'python', (1, 2), '3', 'a', 1, 'python', (1, 2), '3', 'a', 1, 'python', (1, 2), '3']\n",
            "----------------------------------------------------\n",
            "5\n",
            "6\n",
            "----------------------------------------------------\n",
            "True\n",
            "False\n",
            "True\n",
            "False\n",
            "----------------------------------------------------\n",
            "[2, 3, 4, 5]\n"
          ]
        }
      ],
      "source": [
        "#show some operations of list\n",
        "\n",
        "a = [1, 2, 3, 4, 5]\n",
        "b = [6, 7, 8, 9, 10]\n",
        "print('a+b=',a + b)              #a组元素和b组元素相加成为一组元素\n",
        "\n",
        "print('\\n')\n",
        "\n",
        "# note the following is not to multiply the elements in the list, but to repeat the list 3 times\n",
        "print('a*3=',a * 3)                  #列表重复3次\n",
        "\n",
        "print('----------------------------------------------------')\n",
        "\n",
        "# search list a_list for the first occurrence of 3\n",
        "print('the result of running a_list.index(3) is: ', a_list.index(3))     #3第一次出现的位置\n",
        "\n",
        "print('----------------------------------------------------')\n",
        "\n",
        "# so you can also call something like\n",
        "print(a_list * 2 + b_list * 3)          #a列表重复2次,b列表重复3次，并且相对应元素相加为一个列表\n",
        "\n",
        "print('----------------------------------------------------')\n",
        "\n",
        "# list operations\n",
        "print(len(a))                      #列表a中元素个数\n",
        "str = \"runoob\"\n",
        "print(len(str))                     # 字符串长度\n",
        "\n",
        "print('----------------------------------------------------')\n",
        "\n",
        "print(1 in a)                     #1在列表a中，boolen\n",
        "print(1 in b)\n",
        "print(6 not in a)\n",
        "print(6 not in b)\n",
        "\n",
        "print('----------------------------------------------------')\n",
        "\n",
        "del a[0]                        #删除列表a中的第0个数\n",
        "print(a)\n"
      ]
    },
    {
      "cell_type": "markdown",
      "source": [
        "***del*** 用于通过索引删除元素或删除一个范围内的元素，不返回值。\n",
        "\n"
      ],
      "metadata": {
        "id": "SnfX4UP8IAEJ"
      }
    },
    {
      "cell_type": "code",
      "execution_count": null,
      "metadata": {
        "colab": {
          "base_uri": "https://localhost:8080/"
        },
        "id": "31Wa6pxEr4nU",
        "outputId": "367b9d86-61cf-4e9d-a024-fad35451ab3e"
      },
      "outputs": [
        {
          "output_type": "stream",
          "name": "stdout",
          "text": [
            "c_list: [11, 12, 13, 14, 15, 16, 17]\n",
            "\n",
            "\n",
            "insert 16: [11, 12, 13, 16, 14, 15, 16, 17]\n",
            "\n",
            "\n",
            "remove 16: [11, 12, 13, 14, 15, 16, 17]\n",
            "\n",
            "\n",
            "pop 3: [11, 12, 13, 15, 16, 17]\n",
            "\n",
            "\n",
            "pop last element: [11, 12, 13, 15, 16]\n",
            "\n",
            "\n",
            "[]\n",
            "\n",
            "\n",
            "d_list: [10, 9, 8, 7, 6, 5, 4, 3]\n",
            "\n",
            "\n",
            "[4, 3]\n"
          ]
        }
      ],
      "source": [
        "c_list = list(range(11, 18))      #输出包含数11~18的列表，不包含18\n",
        "print('c_list:',c_list)\n",
        "\n",
        "print('\\n')\n",
        "\n",
        "# inset 16 at the 4th position\n",
        "c_list.insert(3, 16)           #将16插入第四个位置\n",
        "print('insert 16:',c_list)\n",
        "\n",
        "print('\\n')\n",
        "\n",
        "# remove the first occurrence of 16, not the 16th element\n",
        "c_list.remove(16)             #删除第一次出现的元素16\n",
        "print('remove 16:',c_list)\n",
        "\n",
        "print('\\n')\n",
        "\n",
        "# remove the element at the 4th position (index 3)\n",
        "c_list.pop(3)                #删除位置3的元素\n",
        "print('pop 3:',c_list)\n",
        "\n",
        "print('\\n')\n",
        "\n",
        "# remove the last element\n",
        "c_list.pop()\n",
        "print('pop last element:',c_list)     #删除最后一位的元素\n",
        "\n",
        "print('\\n')\n",
        "\n",
        "c_list.clear()               #清空所有元素\n",
        "print(c_list)\n",
        "\n",
        "print('\\n')\n",
        "\n",
        "# note that the following has last element 2, not 1\n",
        "d_list = list(range(10, 2,-1))     #range(开始，停止，步长)，输出不包括停止数，步长为正数时->增长；负数时->减少\n",
        "print('d_list:', d_list)\n",
        "\n",
        "print('\\n')\n",
        "\n",
        "# unlike numpy, the following will not work for list\n",
        "#print(d_list[d_list < 5])\n",
        "\n",
        "# the following will work\n",
        "print([i for i in d_list if i < 5])"
      ]
    },
    {
      "cell_type": "markdown",
      "source": [
        "***remove ***用于删除列表中第一个匹配的值，不返回值。\n",
        "\n",
        "***pop ***用于通过索引删除元素并返回该元素，如果不指定索引，则删除**并返回最后一个元素。**"
      ],
      "metadata": {
        "id": "G9a8zDbIIQHr"
      }
    },
    {
      "cell_type": "markdown",
      "metadata": {
        "id": "HRV15vgIr4nU"
      },
      "source": [
        "**tuple元组**"
      ]
    },
    {
      "cell_type": "code",
      "execution_count": null,
      "metadata": {
        "id": "YJl-UY49r4nU",
        "colab": {
          "base_uri": "https://localhost:8080/"
        },
        "outputId": "44180d3b-7add-43af-9c2a-78ee6c630ce3"
      },
      "outputs": [
        {
          "output_type": "stream",
          "name": "stdout",
          "text": [
            "<class 'tuple'>\n",
            "----------------------------------------------------\n",
            "a_tuple: (1, 2, 3, 4, 5)\n",
            "b_tuple: (1, 2, 3, 4, 5)\n",
            "c_tuple: (1, 2, 3, 4, 5)\n",
            "d_tuple: (1,)\n",
            "e_tuple: (1,)\n",
            "f_tuple: ()\n",
            "g_tuple: ()\n",
            "(1, 2, [3, 4, 5])\n"
          ]
        }
      ],
      "source": [
        "a_tuple = (1, 2, 3, 4, 5)\n",
        "\n",
        "# the folowing cannot be called as tuple is immutable *tuple是不可变的\n",
        "#a_tuple[0] = 100\n",
        "#a_tuple.append(6)\n",
        "\n",
        "# the following are further examples of tuples\n",
        "\n",
        "b_tuple = (1, 2, 3, 4, 5)\n",
        "c_tuple = 1, 2, 3, 4, 5\n",
        "d_tuple = (1,)\n",
        "# you may not use the following line, you must have a comma逗号 after the 1\n",
        "# d_tuple = (1)\n",
        "\n",
        "e_tuple = 1,\n",
        "print(type(d_tuple))\n",
        "\n",
        "print('----------------------------------------------------')\n",
        "\n",
        "f_tuple = ()\n",
        "g_tuple = tuple()\n",
        "\n",
        "print('a_tuple:',a_tuple)\n",
        "print('b_tuple:',b_tuple)\n",
        "print('c_tuple:',c_tuple)\n",
        "print('d_tuple:',d_tuple)\n",
        "print('e_tuple:',e_tuple)\n",
        "print('f_tuple:',f_tuple)\n",
        "print('g_tuple:',g_tuple)\n",
        "\n",
        "print('----------------------------------------------------')\n",
        "\n",
        "# the following is a tuple with a list as an element\n",
        "h_tuple = (1, 2, [3, 4, 5])\n",
        "print(h_tuple)\n"
      ]
    },
    {
      "cell_type": "markdown",
      "metadata": {
        "id": "grV9H3Omr4nV"
      },
      "source": [
        "**dictionary**"
      ]
    },
    {
      "cell_type": "code",
      "execution_count": null,
      "metadata": {
        "id": "nO0UhAJzr4nV",
        "colab": {
          "base_uri": "https://localhost:8080/"
        },
        "outputId": "1384da20-957b-44bb-cdf6-3f81830a281f"
      },
      "outputs": [
        {
          "output_type": "stream",
          "name": "stdout",
          "text": [
            "{'name': 'Alice', 'age': 25, 'gender': 'F'}\n",
            "<class 'dict'>\n",
            "\n",
            "\n",
            "Alice\n",
            "25\n",
            "{'name': 'Alice', 'age': 30, 'gender': 'F'}\n",
            "{'name': 'Alice', 'age': 30, 'gender': 'F', 'city': 'New York'}\n",
            "{'name': 'Alice', 'age': 30, 'city': 'New York'}\n",
            "True\n",
            "False\n"
          ]
        }
      ],
      "source": [
        "# Example 1: Creating a dictionary\n",
        "person = {'name': 'Alice', 'age': 25, 'gender': 'F'}\n",
        "print(person)\n",
        "print(type(person))\n",
        "\n",
        "print('\\n')\n",
        "\n",
        "# Example 2: Accessing dictionary values\n",
        "print(person['name'])\n",
        "print(person['age'])\n",
        "\n",
        "print('\\n')\n",
        "\n",
        "# you won't be able to call this function\n",
        "#print(person[0])\n",
        "\n",
        "# Example 3: Modifying dictionary values\n",
        "person['age'] = 30\n",
        "print(person)\n",
        "\n",
        "print('\\n')\n",
        "\n",
        "# Example 4: Adding new key-value pairs\n",
        "person['city'] = 'New York'\n",
        "print(person)\n",
        "\n",
        "print('\\n')\n",
        "\n",
        "# Example 5: Removing key-value pairs\n",
        "del person['gender']\n",
        "print(person)\n",
        "\n",
        "print('\\n')\n",
        "\n",
        "# Example 6: Checking if a key exists in the dictionary\n",
        "print('name' in person)\n",
        "print('gender' in person)\n"
      ]
    },
    {
      "cell_type": "code",
      "execution_count": null,
      "metadata": {
        "id": "wRCVn5gzr4nW",
        "colab": {
          "base_uri": "https://localhost:8080/"
        },
        "outputId": "a7e95fae-375b-4024-f96c-d6de2ce9287b"
      },
      "outputs": [
        {
          "output_type": "stream",
          "name": "stdout",
          "text": [
            "name\n",
            "age\n",
            "city\n",
            "\n",
            "\n",
            "name\n",
            "age\n",
            "city\n",
            "\n",
            "\n",
            "Alice\n",
            "30\n",
            "New York\n",
            "\n",
            "\n",
            "( name , Alice )\n",
            "( age , 30 )\n",
            "( city , New York )\n",
            "\n",
            "\n",
            "name\n",
            "age\n",
            "city\n"
          ]
        }
      ],
      "source": [
        "# Example 7: Iterating over dictionary keys 遍历字典所有键\n",
        "for key in person:\n",
        "    print(key)\n",
        "print('\\n')\n",
        "\n",
        "# this is the same as the above\n",
        "for key in person.keys():\n",
        "    print(key)\n",
        "print('\\n')\n",
        "\n",
        "# Example 8: Iterating over dictionary values\n",
        "for value in person.values():\n",
        "    print(value)\n",
        "print('\\n')\n",
        "\n",
        "# Example 9: Iterating over dictionary items\n",
        "for key, value in person.items():\n",
        "    print('(',key, ',', value, ')')\n",
        "print('\\n')\n",
        "\n",
        "for key, value in person.items():\n",
        "    print(key)"
      ]
    },
    {
      "cell_type": "markdown",
      "metadata": {
        "id": "vrz-Sf6Vr4nW"
      },
      "source": [
        "**set**"
      ]
    },
    {
      "cell_type": "code",
      "execution_count": null,
      "metadata": {
        "id": "lv_SpN8Br4nW",
        "colab": {
          "base_uri": "https://localhost:8080/"
        },
        "outputId": "fef30b3e-5b14-4780-d4ed-3b3237f45819"
      },
      "outputs": [
        {
          "output_type": "stream",
          "name": "stdout",
          "text": [
            "{1, 2, 3, 4, 5}\n",
            "<class 'set'>\n",
            "{1, 2, 3, 4, 5, 6}\n",
            "{1, 2, 4, 5, 6}\n",
            "True\n",
            "False\n",
            "{1, 2, 4, 5, 6, 7, 8}\n",
            "{4, 5, 6}\n",
            "{1, 2}\n"
          ]
        }
      ],
      "source": [
        "# Example 1: Creating a set\n",
        "a_set = {1, 2, 3, 4, 5}\n",
        "print(a_set)\n",
        "print(type(a_set))\n",
        "\n",
        "print('\\n')\n",
        "\n",
        "# Example 2: Adding elements to a set\n",
        "a_set.add(6)\n",
        "print(a_set)\n",
        "\n",
        "print('\\n')\n",
        "\n",
        "# Example 3: Removing elements from a set\n",
        "a_set.remove(3)\n",
        "print(a_set)\n",
        "\n",
        "print('\\n')\n",
        "\n",
        "# Example 4: Checking if an element exists in a set\n",
        "print(2 in a_set)\n",
        "print(7 in a_set)\n",
        "\n",
        "print('\\n')\n",
        "\n",
        "# Example 5: Set operations\n",
        "b_set = {4, 5, 6, 7, 8}\n",
        "print(a_set.union(b_set))         #a，b结合\n",
        "print(a_set.intersection(b_set))      #输出a，b相交的元素\n",
        "print(a_set.difference(b_set))       #输出a,b不一样的元素"
      ]
    },
    {
      "cell_type": "code",
      "execution_count": null,
      "metadata": {
        "id": "4dLN2ka_r4nW",
        "outputId": "6b0d6f82-c2b0-4cb8-947a-e906d76a774b",
        "colab": {
          "base_uri": "https://localhost:8080/"
        }
      },
      "outputs": [
        {
          "output_type": "stream",
          "name": "stdout",
          "text": [
            "1\n",
            "2\n",
            "3\n",
            "4\n",
            "5\n",
            "----------------------------------------------------\n",
            "[1, 2, 3, 4, 5, 1, 2, 3]\n",
            "{1, 2, 3, 4, 5}\n",
            "----------------------------------------------------\n",
            "{1, 2, 3, 4, 5}\n",
            "(1, 2, 3, 4, 5)\n",
            "----------------------------------------------------\n",
            "{1, 2, 3, 4, 5}\n",
            "True\n",
            "----------------------------------------------------\n",
            "{8, 9, 10, 7}\n",
            "{8, 9, 10}\n"
          ]
        }
      ],
      "source": [
        "# Example 6: Iterating over a set在一个集合上迭代\n",
        "for element in a_set:\n",
        "    print(element)\n",
        "\n",
        "print('----------------------------------------------------')\n",
        "# example of converting list to set 将list改为set *列表是有序、可变的；集合是无序、不可重复的。列表->集合，以便于去除重复元素\n",
        "a_list = [1, 2, 3, 4, 5, 1, 2, 3]\n",
        "a_set = set(a_list)\n",
        "\n",
        "print(a_list)\n",
        "print(a_set)\n",
        "print('----------------------------------------------------')\n",
        "\n",
        "# example of converting set to tuple\n",
        "a_set = {1, 2, 3, 4, 5}\n",
        "a_tuple = tuple(a_set)\n",
        "\n",
        "print(a_set)\n",
        "print(a_tuple)\n",
        "print('----------------------------------------------------')\n",
        "\n",
        "b_set = {5,2,1, 4, 3}\n",
        "print(b_set)\n",
        "print(a_set == b_set)          #a集合是否与b相等\n",
        "print('----------------------------------------------------')\n",
        "\n",
        "# delete a set element\n",
        "c_set = {7, 8, 9, 10}\n",
        "print(c_set)\n",
        "c_set.remove(7)\n",
        "print(c_set)\n"
      ]
    },
    {
      "cell_type": "markdown",
      "metadata": {
        "id": "9jab6t5cr4nX"
      },
      "source": [
        "**loops**"
      ]
    },
    {
      "cell_type": "code",
      "execution_count": null,
      "metadata": {
        "id": "loZriqaHr4nX",
        "colab": {
          "base_uri": "https://localhost:8080/"
        },
        "outputId": "0ae97ea1-9008-40a0-f1fc-d2460c09e9d5"
      },
      "outputs": [
        {
          "output_type": "stream",
          "name": "stdout",
          "text": [
            "1\n",
            "2\n",
            "3\n",
            "4\n",
            "5\n",
            "\n",
            "\n",
            "1\n",
            "2\n",
            "3\n",
            "4\n",
            "5\n",
            "\n",
            "\n",
            "1\n",
            "2\n",
            "3\n",
            "4\n",
            "5\n"
          ]
        }
      ],
      "source": [
        "a_list = [1, 2, 3, 4, 5]\n",
        "\n",
        "for element in a_list:\n",
        "    print(element)\n",
        "print('\\n')\n",
        "\n",
        "for index in range(len(a_list)):\n",
        "    print(a_list[index])\n",
        "print('\\n')\n",
        "\n",
        "\n",
        "# example of while loop\n",
        "x = 1\n",
        "while x < 6:\n",
        "    print(x)\n",
        "    x += 1\n"
      ]
    },
    {
      "cell_type": "markdown",
      "metadata": {
        "id": "Ug_KErFFr4nX"
      },
      "source": [
        "**enumerate**, **zip**\n",
        "\n"
      ]
    },
    {
      "cell_type": "code",
      "execution_count": null,
      "metadata": {
        "id": "VR-Gt90Sr4nX",
        "outputId": "90889691-f1c3-42d3-944f-22270830da8a",
        "colab": {
          "base_uri": "https://localhost:8080/"
        }
      },
      "outputs": [
        {
          "output_type": "stream",
          "name": "stdout",
          "text": [
            "<class 'enumerate'>\n",
            "0 1\n",
            "1 2\n",
            "2 3\n",
            "3 4\n",
            "4 5\n",
            "<class 'zip'>\n",
            "[(1, 'a'), (2, 'b'), (3, 'c'), (4, 'd'), (5, 'e')]\n",
            "0 1 a\n",
            "1 2 b\n",
            "2 3 c\n",
            "3 4 d\n",
            "4 5 e\n",
            "0 Alice 80 70 60\n",
            "1 Bob 85 75 65\n",
            "2 Charlie 90 80 70\n",
            "3 David 95 85 75\n",
            "4 Eve 100 90 80\n"
          ]
        }
      ],
      "source": [
        "# enumerate function returns a tuple with the index and the element 列举\n",
        "t = enumerate(a_list)\n",
        "print(type(t))\n",
        "print('----------------------------------------------------')\n",
        "\n",
        "for index, element in enumerate(a_list):\n",
        "    print(index, element)\n",
        "print('----------------------------------------------------')\n",
        "\n",
        "# zip function returns a tuple with the elements of the two lists 压缩\n",
        "\n",
        "a_list = [1, 2, 3, 4, 5]\n",
        "b_list = ['a', 'b', 'c', 'd', 'e']\n",
        "z = zip(a_list, b_list)\n",
        "print(type(z))\n",
        "print(list(z))\n",
        "print('----------------------------------------------------')\n",
        "\n",
        "# the following is an example of using the zip function with the enumerate function\n",
        "for index, (a, b) in enumerate(zip(a_list, b_list)):\n",
        "    print(index, a, b)\n",
        "print('----------------------------------------------------')\n",
        "\n",
        "# the following is a real example of using the zip function over several lists of student marks\n",
        "name_list = ['Alice', 'Bob', 'Charlie', 'David', 'Eve']\n",
        "english_marks = [80, 85, 90, 95, 100]\n",
        "maths_marks = [70, 75, 80, 85, 90]\n",
        "science_marks = [60, 65, 70, 75, 80]\n",
        "\n",
        "for i, (name, english, maths, science) in enumerate(zip(name_list, english_marks, maths_marks, science_marks)):\n",
        "    print(i, name, english, maths, science)\n",
        "\n"
      ]
    },
    {
      "cell_type": "markdown",
      "metadata": {
        "id": "4n7XoxNdr4nY"
      },
      "source": [
        "**implicit loops 隐式循环&explicit loops 显示循环**"
      ]
    },
    {
      "cell_type": "code",
      "execution_count": null,
      "metadata": {
        "id": "N5ffeFuvr4nY",
        "outputId": "6605a40e-d8da-4fa9-f38f-c962ae9ce426",
        "colab": {
          "base_uri": "https://localhost:8080/"
        }
      },
      "outputs": [
        {
          "output_type": "stream",
          "name": "stdout",
          "text": [
            "[1, 4, 9, 16, 25]\n",
            "----------------------------------------------------\n",
            "[1, 4, 9, 16, 25]\n",
            "<class 'generator'>\n",
            "[1, 4, 9, 16, 25]\n",
            "[4, 16]\n",
            "[4, 16]\n"
          ]
        }
      ],
      "source": [
        "# Implicit loop using list comprehension\n",
        "squares = [x**2 for x in range(1, 6)]     #1~6范围内的数的平方，不包含6\n",
        "print(squares)\n",
        "\n",
        "print('----------------------------------------------------')\n",
        "\n",
        "squares =list(x**2 for x in range(1,6))\n",
        "print(squares)\n",
        "\n",
        "print('----------------------------------------------------')\n",
        "\n",
        "# by the way, for x in range(1,6) is called a generator生成器\n",
        "print(type(x for x in range(1,6)))\n",
        "print('----------------------------------------------------')\n",
        "\n",
        "# the following is explicit loop for the above\n",
        "squares = []\n",
        "for x in range(1, 6):\n",
        "    squares.append(x**2)\n",
        "print(squares)\n",
        "\n",
        "# another example of implicit loop using list comprehension\n",
        "\n",
        "even_squares = [x**2 for x in range(1, 6) if x % 2 == 0]\n",
        "print(even_squares)\n",
        "\n",
        "# another example of explicit loop using list comprehension\n",
        "even_squares = []\n",
        "for x in range(1, 6):\n",
        "    if x % 2 == 0:\n",
        "        even_squares.append(x**2)\n",
        "print(even_squares)\n",
        "\n"
      ]
    },
    {
      "cell_type": "markdown",
      "metadata": {
        "id": "bm8DVpeDr4nY"
      },
      "source": [
        "**control flow**\n",
        "控制流：程序中的一种结构，用于控制代码的执行顺序，包括条件语句、循环语句和函数调用等。"
      ]
    },
    {
      "cell_type": "code",
      "execution_count": null,
      "metadata": {
        "id": "5Su4MA0yr4nZ",
        "outputId": "ecdde8d7-baf0-413c-a981-d50aae60f962"
      },
      "outputs": [
        {
          "name": "stdout",
          "output_type": "stream",
          "text": [
            "x is positive\n",
            "x and y are positive\n",
            "x or y is positive\n",
            "C\n"
          ]
        }
      ],
      "source": [
        "x = 5\n",
        "\n",
        "if x > 0:\n",
        "    print(\"x is positive\")\n",
        "else:\n",
        "    print(\"x is non-positive\")\n",
        "\n",
        "\n",
        "x = 5\n",
        "y = 10\n",
        "\n",
        "if x > 0 and y > 0:            #和\n",
        "    print(\"x and y are positive\")\n",
        "else:\n",
        "    print(\"x and y are not both positive\")\n",
        "\n",
        "\n",
        "x = 5\n",
        "y = -10\n",
        "\n",
        "if x > 0 or y > 0:            #或\n",
        "    print(\"x or y is positive\")\n",
        "else:\n",
        "    print(\"x and y are both non-positive\")\n",
        "\n",
        "# here is an example of use case of the if statement\n",
        "\n",
        "marks = 55\n",
        "\n",
        "if marks >= 90:\n",
        "    grade = 'A+'\n",
        "elif marks >= 85:\n",
        "    grade = 'A'\n",
        "elif marks >= 80:\n",
        "    grade = 'A-'\n",
        "elif marks >= 75:\n",
        "    grade = 'B+'\n",
        "elif marks >= 70:\n",
        "    grade = 'B'\n",
        "elif marks >= 65:\n",
        "    grade = 'B-'\n",
        "elif marks >= 60:\n",
        "    grade = 'C+'\n",
        "elif marks >= 55:\n",
        "    grade = 'C'\n",
        "elif marks >= 50:\n",
        "    grade = 'C-'\n",
        "else:\n",
        "    grade = 'F'\n",
        "\n",
        "print(grade)\n",
        "\n"
      ]
    },
    {
      "cell_type": "code",
      "execution_count": null,
      "metadata": {
        "id": "aJy1lBZOr4nZ",
        "outputId": "9e61ba4e-0fe3-40cf-ad86-a239aabc039e"
      },
      "outputs": [
        {
          "name": "stdout",
          "output_type": "stream",
          "text": [
            "4\n",
            "-14.100000000000001\n",
            "5.666666666666667 5.666666666666667\n",
            "16\n",
            "Hello welcome to ORBS 7300 at HKBU\n",
            "Hello welcome to Data Science at 2024\n",
            "Value of pi is 3.14\n"
          ]
        }
      ],
      "source": [
        "print(2+2)\n",
        "print((2.0 - 6.7)*3)\n",
        "print(17/3, 17.0/3)\n",
        "print(4**2)\n",
        "subject_code = 7300\n",
        "print('Hello welcome to ORBS', subject_code, 'at HKBU')\n",
        "\n",
        "# there are several ways in which you may print a string and a variable. But I prefer the f-string method f 字符串（格式化字符串文字）\n",
        "year = 2024\n",
        "\n",
        "\n",
        "print(f\"Hello welcome to Data Science at {year}\" )\n",
        "# and if you want to print a string and a variable with 2 decimal places, then\n",
        "pi = 3.14159265359\n",
        "print(f\"Value of pi is {pi:.2f}\")      #保留两位小数\n"
      ]
    },
    {
      "cell_type": "markdown",
      "metadata": {
        "id": "6FY6fS1er4nZ"
      },
      "source": [
        "**function**"
      ]
    },
    {
      "cell_type": "code",
      "execution_count": null,
      "metadata": {
        "id": "RJyjluTXr4nZ",
        "outputId": "61945088-f683-45fc-9cbf-7283a5bc9311"
      },
      "outputs": [
        {
          "name": "stdout",
          "output_type": "stream",
          "text": [
            "The average is: 3.0\n",
            "4\n",
            "4\n",
            "lambda 5\n",
            "lambda 7\n",
            "5\n",
            "7\n"
          ]
        }
      ],
      "source": [
        "def calculate_average(numbers):\n",
        "    total = sum(numbers)\n",
        "    average = total / len(numbers)\n",
        "    return average\n",
        "\n",
        "# Example usage\n",
        "my_list = [1, 2, 3, 4, 5]\n",
        "result = calculate_average(my_list)\n",
        "print(\"The average is:\", result)\n",
        "print('----------------------------------------------------')\n",
        "\n",
        "# show an example of lambda function 匿名函数 ，不需要使用 def 关键字定义完整函数\n",
        "\n",
        "f = lambda x: x**2\n",
        "print(f(2))\n",
        "\n",
        "# the following is the same as the above\n",
        "def f(x):\n",
        "    return x**2\n",
        "print(f(2))\n",
        "print('----------------------------------------------------')\n",
        "\n",
        "\n",
        "# the following is another example of lambda function\n",
        "g = lambda x, y: x + y\n",
        "print('lambda',g(2, 3))\n",
        "print('lambda',g(3, 4))\n",
        "\n",
        "# the following is the same as the above\n",
        "def g(x, y):\n",
        "    return x + y\n",
        "print(g(2, 3))\n",
        "print(g(3, 4))\n"
      ]
    },
    {
      "cell_type": "markdown",
      "metadata": {
        "id": "R680vcy5r4na"
      },
      "source": [
        "**interactive 交互式的**"
      ]
    },
    {
      "cell_type": "code",
      "execution_count": null,
      "metadata": {
        "id": "9HzNMzVor4na",
        "colab": {
          "base_uri": "https://localhost:8080/",
          "height": 117,
          "referenced_widgets": [
            "22537b14cc6d4c9a841a36d0bcc61f6d",
            "027a38afdcce465896e1020e44378536",
            "288f9d7a7b1849acb908e4cd46024ad9",
            "16102dd613db4b87ba42703da9f33b62",
            "0f88a54c3dc4483d82ad662c5fca2bc0",
            "afc46d18c6754e5398d207f42bd58eeb"
          ]
        },
        "outputId": "df706e4b-6b86-4a12-e27b-b527052cf5ff"
      },
      "outputs": [
        {
          "output_type": "display_data",
          "data": {
            "text/plain": [
              "Button(description='Button 1', style=ButtonStyle())"
            ],
            "application/vnd.jupyter.widget-view+json": {
              "version_major": 2,
              "version_minor": 0,
              "model_id": "22537b14cc6d4c9a841a36d0bcc61f6d"
            }
          },
          "metadata": {}
        },
        {
          "output_type": "display_data",
          "data": {
            "text/plain": [
              "Button(description='Button 2', style=ButtonStyle())"
            ],
            "application/vnd.jupyter.widget-view+json": {
              "version_major": 2,
              "version_minor": 0,
              "model_id": "16102dd613db4b87ba42703da9f33b62"
            }
          },
          "metadata": {}
        },
        {
          "output_type": "stream",
          "name": "stdout",
          "text": [
            "Button 1 clicked!\n",
            "Button 2 clicked!\n"
          ]
        }
      ],
      "source": [
        "import ipywidgets as widgets\n",
        "\n",
        "# Create the buttons\n",
        "button1 = widgets.Button(description='Button 1')\n",
        "button2 = widgets.Button(description='Button 2')\n",
        "\n",
        "# Define the click event handlers\n",
        "def on_button1_clicked(b):\n",
        "    print('Button 1 clicked!')\n",
        "\n",
        "def on_button2_clicked(b):\n",
        "    print('Button 2 clicked!')\n",
        "\n",
        "# Attach the event handlers to the buttons     #将事件处理程序附加到按钮上\n",
        "button1.on_click(on_button1_clicked)\n",
        "button2.on_click(on_button2_clicked)\n",
        "\n",
        "# Display the buttons\n",
        "display(button1)\n",
        "display(button2)"
      ]
    },
    {
      "cell_type": "markdown",
      "metadata": {
        "id": "BKeIN0Qir4na"
      },
      "source": [
        "**try and exception**\n",
        "*没有异常->运行try语句\n",
        "有异常->运行exception语句*"
      ]
    },
    {
      "cell_type": "code",
      "execution_count": null,
      "metadata": {
        "id": "3PvigpiKr4na",
        "outputId": "892ff9f0-3556-4c82-f2f4-1cfeb442160d"
      },
      "outputs": [
        {
          "name": "stdout",
          "output_type": "stream",
          "text": [
            "Cannot divide by zero\n",
            "An error occurred\n",
            "1.0\n",
            "Division successful\n"
          ]
        }
      ],
      "source": [
        "# the following is an exampel of try and except\n",
        "try:\n",
        "    print(1/0)\n",
        "except ZeroDivisionError:\n",
        "    print('Cannot divide by zero')\n",
        "\n",
        "# the following is an example of try and except without specifying the error\n",
        "try:\n",
        "    print(1/0)\n",
        "except:\n",
        "    print('An error occurred')\n",
        "\n",
        "# the following is an example of try and except with else\n",
        "try:\n",
        "    print(1/1)\n",
        "except:\n",
        "    print('Cannot divide by zero')\n",
        "else:\n",
        "    print('Division successful')\n"
      ]
    },
    {
      "cell_type": "markdown",
      "metadata": {
        "id": "EQcGo2ADr4na"
      },
      "source": []
    }
  ],
  "metadata": {
    "kernelspec": {
      "display_name": "Python 3 (ipykernel)",
      "language": "python",
      "name": "python3"
    },
    "language_info": {
      "codemirror_mode": {
        "name": "ipython",
        "version": 3
      },
      "file_extension": ".py",
      "mimetype": "text/x-python",
      "name": "python",
      "nbconvert_exporter": "python",
      "pygments_lexer": "ipython3",
      "version": "3.9.6"
    },
    "colab": {
      "provenance": [],
      "include_colab_link": true
    },
    "widgets": {
      "application/vnd.jupyter.widget-state+json": {
        "22537b14cc6d4c9a841a36d0bcc61f6d": {
          "model_module": "@jupyter-widgets/controls",
          "model_name": "ButtonModel",
          "model_module_version": "1.5.0",
          "state": {
            "_dom_classes": [],
            "_model_module": "@jupyter-widgets/controls",
            "_model_module_version": "1.5.0",
            "_model_name": "ButtonModel",
            "_view_count": null,
            "_view_module": "@jupyter-widgets/controls",
            "_view_module_version": "1.5.0",
            "_view_name": "ButtonView",
            "button_style": "",
            "description": "Button 1",
            "disabled": false,
            "icon": "",
            "layout": "IPY_MODEL_027a38afdcce465896e1020e44378536",
            "style": "IPY_MODEL_288f9d7a7b1849acb908e4cd46024ad9",
            "tooltip": ""
          }
        },
        "027a38afdcce465896e1020e44378536": {
          "model_module": "@jupyter-widgets/base",
          "model_name": "LayoutModel",
          "model_module_version": "1.2.0",
          "state": {
            "_model_module": "@jupyter-widgets/base",
            "_model_module_version": "1.2.0",
            "_model_name": "LayoutModel",
            "_view_count": null,
            "_view_module": "@jupyter-widgets/base",
            "_view_module_version": "1.2.0",
            "_view_name": "LayoutView",
            "align_content": null,
            "align_items": null,
            "align_self": null,
            "border": null,
            "bottom": null,
            "display": null,
            "flex": null,
            "flex_flow": null,
            "grid_area": null,
            "grid_auto_columns": null,
            "grid_auto_flow": null,
            "grid_auto_rows": null,
            "grid_column": null,
            "grid_gap": null,
            "grid_row": null,
            "grid_template_areas": null,
            "grid_template_columns": null,
            "grid_template_rows": null,
            "height": null,
            "justify_content": null,
            "justify_items": null,
            "left": null,
            "margin": null,
            "max_height": null,
            "max_width": null,
            "min_height": null,
            "min_width": null,
            "object_fit": null,
            "object_position": null,
            "order": null,
            "overflow": null,
            "overflow_x": null,
            "overflow_y": null,
            "padding": null,
            "right": null,
            "top": null,
            "visibility": null,
            "width": null
          }
        },
        "288f9d7a7b1849acb908e4cd46024ad9": {
          "model_module": "@jupyter-widgets/controls",
          "model_name": "ButtonStyleModel",
          "model_module_version": "1.5.0",
          "state": {
            "_model_module": "@jupyter-widgets/controls",
            "_model_module_version": "1.5.0",
            "_model_name": "ButtonStyleModel",
            "_view_count": null,
            "_view_module": "@jupyter-widgets/base",
            "_view_module_version": "1.2.0",
            "_view_name": "StyleView",
            "button_color": null,
            "font_weight": ""
          }
        },
        "16102dd613db4b87ba42703da9f33b62": {
          "model_module": "@jupyter-widgets/controls",
          "model_name": "ButtonModel",
          "model_module_version": "1.5.0",
          "state": {
            "_dom_classes": [],
            "_model_module": "@jupyter-widgets/controls",
            "_model_module_version": "1.5.0",
            "_model_name": "ButtonModel",
            "_view_count": null,
            "_view_module": "@jupyter-widgets/controls",
            "_view_module_version": "1.5.0",
            "_view_name": "ButtonView",
            "button_style": "",
            "description": "Button 2",
            "disabled": false,
            "icon": "",
            "layout": "IPY_MODEL_0f88a54c3dc4483d82ad662c5fca2bc0",
            "style": "IPY_MODEL_afc46d18c6754e5398d207f42bd58eeb",
            "tooltip": ""
          }
        },
        "0f88a54c3dc4483d82ad662c5fca2bc0": {
          "model_module": "@jupyter-widgets/base",
          "model_name": "LayoutModel",
          "model_module_version": "1.2.0",
          "state": {
            "_model_module": "@jupyter-widgets/base",
            "_model_module_version": "1.2.0",
            "_model_name": "LayoutModel",
            "_view_count": null,
            "_view_module": "@jupyter-widgets/base",
            "_view_module_version": "1.2.0",
            "_view_name": "LayoutView",
            "align_content": null,
            "align_items": null,
            "align_self": null,
            "border": null,
            "bottom": null,
            "display": null,
            "flex": null,
            "flex_flow": null,
            "grid_area": null,
            "grid_auto_columns": null,
            "grid_auto_flow": null,
            "grid_auto_rows": null,
            "grid_column": null,
            "grid_gap": null,
            "grid_row": null,
            "grid_template_areas": null,
            "grid_template_columns": null,
            "grid_template_rows": null,
            "height": null,
            "justify_content": null,
            "justify_items": null,
            "left": null,
            "margin": null,
            "max_height": null,
            "max_width": null,
            "min_height": null,
            "min_width": null,
            "object_fit": null,
            "object_position": null,
            "order": null,
            "overflow": null,
            "overflow_x": null,
            "overflow_y": null,
            "padding": null,
            "right": null,
            "top": null,
            "visibility": null,
            "width": null
          }
        },
        "afc46d18c6754e5398d207f42bd58eeb": {
          "model_module": "@jupyter-widgets/controls",
          "model_name": "ButtonStyleModel",
          "model_module_version": "1.5.0",
          "state": {
            "_model_module": "@jupyter-widgets/controls",
            "_model_module_version": "1.5.0",
            "_model_name": "ButtonStyleModel",
            "_view_count": null,
            "_view_module": "@jupyter-widgets/base",
            "_view_module_version": "1.2.0",
            "_view_name": "StyleView",
            "button_color": null,
            "font_weight": ""
          }
        }
      }
    }
  },
  "nbformat": 4,
  "nbformat_minor": 0
}